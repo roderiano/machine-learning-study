{
 "cells": [
  {
   "cell_type": "code",
   "execution_count": null,
   "metadata": {},
   "outputs": [],
   "source": [
    "# Importando as bibliotecas necessárias\n",
    "import pandas as pd\n",
    "import numpy as np\n",
    "\n",
    "# Criando um DataFrame de exemplo com o dataset \"cars\"\n",
    "data = {'Car': ['Ford', 'Toyota', 'BMW', 'Audi', 'Mercedes'],\n",
    "        'Price': [25000, 30000, 35000, 40000, 45000],\n",
    "        'Year': [2015, 2016, 2017, 2018, 2019],\n",
    "        'Mileage': [20000, 25000, 30000, 35000, 40000]}\n",
    "cars_df = pd.DataFrame(data)\n",
    "\n",
    "# Visualizando o DataFrame\n",
    "print(\"DataFrame 'cars':\")\n",
    "print(cars_df)\n",
    "print()\n",
    "\n",
    "# Calculando a média, mediana, moda e desvio padrão do preço dos carros\n",
    "mean_price = np.mean(cars_df['Price'])\n",
    "median_price = np.median(cars_df['Price'])\n",
    "mode_price = cars_df['Price'].mode()[0]  # Mode pode retornar múltiplos valores, então pegamos o primeiro\n",
    "std_dev_price = np.std(cars_df['Price'])\n",
    "\n",
    "print(\"Estatísticas de preço:\")\n",
    "print(\"Média:\", mean_price)\n",
    "print(\"Mediana:\", median_price)\n",
    "print(\"Moda:\", mode_price)\n",
    "print(\"Desvio Padrão:\", std_dev_price)\n",
    "print()\n",
    "\n",
    "# Calculando o número de amostras\n",
    "num_samples = len(cars_df)\n",
    "\n",
    "print(\"Número de amostras:\", num_samples)\n",
    "print()\n",
    "\n",
    "# Calculando a correlação entre o ano e o preço dos carros\n",
    "correlation = cars_df['Year'].corr(cars_df['Price'])\n",
    "\n",
    "print(\"Correlação entre o ano e o preço dos carros:\", correlation)\n"
   ]
  }
 ],
 "metadata": {
  "language_info": {
   "name": "python"
  },
  "orig_nbformat": 4
 },
 "nbformat": 4,
 "nbformat_minor": 2
}
