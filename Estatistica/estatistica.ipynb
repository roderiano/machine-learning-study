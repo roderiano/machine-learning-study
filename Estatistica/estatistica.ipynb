{
 "cells": [
  {
   "cell_type": "code",
   "execution_count": 2,
   "metadata": {},
   "outputs": [
    {
     "name": "stdout",
     "output_type": "stream",
     "text": [
      "DataFrame 'cars':\n",
      "        Car  Price  Year  Mileage\n",
      "0      Ford  25000  2015    20000\n",
      "1    Toyota  30000  2016    25000\n",
      "2       BMW  35000  2017    30000\n",
      "3      Audi  40000  2018    35000\n",
      "4  Mercedes  45000  2019    40000\n",
      "\n",
      "Estatísticas de preço:\n",
      "Média: 35000.0\n",
      "Mediana: 35000.0\n",
      "Moda: 25000\n",
      "Desvio Padrão: 7071.067811865475\n",
      "\n",
      "Número de amostras: 5\n",
      "\n",
      "Correlação entre o ano e o preço dos carros: 1.0\n"
     ]
    }
   ],
   "source": [
    "# Importando as bibliotecas necessárias\n",
    "import pandas as pd\n",
    "import numpy as np\n",
    "\n",
    "# Criando um DataFrame de exemplo com o dataset \"cars\"\n",
    "data = {'Car': ['Ford', 'Toyota', 'BMW', 'Audi', 'Mercedes'],\n",
    "        'Price': [25000, 30000, 35000, 40000, 45000],\n",
    "        'Year': [2015, 2016, 2017, 2018, 2019],\n",
    "        'Mileage': [20000, 25000, 30000, 35000, 40000]}\n",
    "cars_df = pd.DataFrame(data)\n",
    "\n",
    "# Visualizando o DataFrame\n",
    "print(\"DataFrame 'cars':\")\n",
    "print(cars_df)\n",
    "print()\n",
    "\n",
    "# Calculando a média, mediana, moda e desvio padrão do preço dos carros\n",
    "mean_price = np.mean(cars_df['Price'])\n",
    "median_price = np.median(cars_df['Price'])\n",
    "mode_price = cars_df['Price'].mode()[0]  # Mode pode retornar múltiplos valores, então pegamos o primeiro\n",
    "std_dev_price = np.std(cars_df['Price'])\n",
    "\n",
    "print(\"Estatísticas de preço:\")\n",
    "print(\"Média:\", mean_price)\n",
    "print(\"Mediana:\", median_price)\n",
    "print(\"Moda:\", mode_price)\n",
    "print(\"Desvio Padrão:\", std_dev_price)\n",
    "print()\n",
    "\n",
    "# Calculando o número de amostras\n",
    "num_samples = len(cars_df)\n",
    "\n",
    "print(\"Número de amostras:\", num_samples)\n",
    "print()\n",
    "\n",
    "# Calculando a correlação entre o ano e o preço dos carros\n",
    "correlation = cars_df['Year'].corr(cars_df['Price'])\n",
    "\n",
    "print(\"Correlação entre o ano e o preço dos carros:\", correlation)\n"
   ]
  }
 ],
 "metadata": {
  "kernelspec": {
   "display_name": ".venv",
   "language": "python",
   "name": "python3"
  },
  "language_info": {
   "codemirror_mode": {
    "name": "ipython",
    "version": 3
   },
   "file_extension": ".py",
   "mimetype": "text/x-python",
   "name": "python",
   "nbconvert_exporter": "python",
   "pygments_lexer": "ipython3",
   "version": "3.11.5"
  },
  "orig_nbformat": 4
 },
 "nbformat": 4,
 "nbformat_minor": 2
}
