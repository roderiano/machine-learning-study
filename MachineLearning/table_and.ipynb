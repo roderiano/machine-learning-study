{
 "cells": [
  {
   "cell_type": "code",
   "execution_count": 1,
   "metadata": {},
   "outputs": [],
   "source": [
    "import numpy as np"
   ]
  },
  {
   "cell_type": "code",
   "execution_count": 2,
   "metadata": {},
   "outputs": [],
   "source": [
    "def sum(input, weight):\n",
    "    return input.dot(weight)\n",
    "\n",
    "def step_function(sum):\n",
    "    if(sum >= 1):\n",
    "        return 1\n",
    "    return 0\n",
    "\n",
    "def output_calculation(input, weights):\n",
    "    sum = input.dot(weights)\n",
    "    return step_function(sum)"
   ]
  },
  {
   "cell_type": "code",
   "execution_count": 3,
   "metadata": {},
   "outputs": [
    {
     "name": "stdout",
     "output_type": "stream",
     "text": [
      "updated weights: 0.0\n",
      "updated weights: 0.0\n",
      "updated weights: 0.0\n",
      "updated weights: 0.0\n",
      "updated weights: 0.0\n",
      "updated weights: 0.0\n",
      "updated weights: 0.25\n",
      "updated weights: 0.25\n",
      "error amount: 1\n",
      "updated weights: 0.25\n",
      "updated weights: 0.25\n",
      "updated weights: 0.25\n",
      "updated weights: 0.25\n",
      "updated weights: 0.25\n",
      "updated weights: 0.25\n",
      "updated weights: 0.5\n",
      "updated weights: 0.5\n",
      "error amount: 1\n",
      "updated weights: 0.5\n",
      "updated weights: 0.5\n",
      "updated weights: 0.5\n",
      "updated weights: 0.5\n",
      "updated weights: 0.5\n",
      "updated weights: 0.5\n",
      "updated weights: 0.5\n",
      "updated weights: 0.5\n",
      "error amount: 0\n"
     ]
    }
   ],
   "source": [
    "def learn(inputs, outputs, weights, learning_rate):\n",
    "    error_amount = 1\n",
    "    while error_amount != 0:\n",
    "        error_amount = 0\n",
    "\n",
    "        for i in range(len(outputs)):\n",
    "            output_calc = output_calculation(np.array(inputs[i]), weights)\n",
    "            error = abs(outputs[i] - output_calc)\n",
    "            error_amount += error\n",
    "\n",
    "            for j in range(len(weights)):\n",
    "                weights[j] = weights[j] + (learning_rate * inputs[i][j] * error)\n",
    "                print(f\"updated weights: {weights[j]}\")\n",
    "        print(f\"error amount: {error_amount}\")\n",
    "\n",
    "if __name__ == \"__main__\":\n",
    "    inputs = np.array([[0, 0], [0, 1], [1, 0], [1, 1]])\n",
    "    outputs = np.array([0, 0, 0, 1])\n",
    "    weights = np.array([0.0, 0.0])\n",
    "    learning_rate = 0.25\n",
    "    learn(inputs, outputs, weights, learning_rate)\n"
   ]
  }
 ],
 "metadata": {
  "kernelspec": {
   "display_name": ".venv",
   "language": "python",
   "name": "python3"
  },
  "language_info": {
   "codemirror_mode": {
    "name": "ipython",
    "version": 3
   },
   "file_extension": ".py",
   "mimetype": "text/x-python",
   "name": "python",
   "nbconvert_exporter": "python",
   "pygments_lexer": "ipython3",
   "version": "3.11.5"
  },
  "orig_nbformat": 4
 },
 "nbformat": 4,
 "nbformat_minor": 2
}
