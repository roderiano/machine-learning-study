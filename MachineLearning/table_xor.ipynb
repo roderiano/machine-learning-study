{
 "cells": [
  {
   "cell_type": "code",
   "execution_count": 50,
   "metadata": {},
   "outputs": [],
   "source": [
    "import numpy as np"
   ]
  },
  {
   "cell_type": "code",
   "execution_count": 51,
   "metadata": {},
   "outputs": [],
   "source": [
    "def sigmoid(sum):\n",
    "    return 1 / (1 + np.exp(-sum))\n",
    "\n",
    "def sigmoid_derivative(sigmoid):\n",
    "    return sigmoid * (1-sigmoid)"
   ]
  },
  {
   "cell_type": "code",
   "execution_count": 52,
   "metadata": {},
   "outputs": [
    {
     "name": "stdout",
     "output_type": "stream",
     "text": [
      "error average: 0.007397214068339354\n"
     ]
    }
   ],
   "source": [
    "def learn(inputs, outputs, weights_0, weights_1, learning_rate, training_amount, momentum):\n",
    "    for i in range(training_amount):\n",
    "        input_layer = inputs\n",
    "        sum_synapse_0 = np.dot(input_layer, weights_0)\n",
    "        hidden_layer = sigmoid(sum_synapse_0)\n",
    "\n",
    "        sum_synapse_1 = np.dot(hidden_layer, weights_1)\n",
    "        output_layer = sigmoid(sum_synapse_1)\n",
    "\n",
    "        output_layer_error = outputs - output_layer\n",
    "        absolute_average = np.mean(np.abs(output_layer_error))\n",
    "        print(f\"error average: {absolute_average}\")\n",
    "\n",
    "        derivative_output = sigmoid_derivative(output_layer)\n",
    "        delta_output = output_layer_error * derivative_output\n",
    "\n",
    "        weights_transposed_1 = weights_1.T\n",
    "        delta_output_vs_weights = delta_output.dot(weights_transposed_1)\n",
    "        delta_hidden_layer = delta_output_vs_weights * sigmoid_derivative(hidden_layer)\n",
    "\n",
    "        hidden_layer_transposed = hidden_layer.T\n",
    "        weights_3 = hidden_layer_transposed.dot(delta_output)\n",
    "        weights_1 = (weights_1 * momentum) + (weights_3 * learning_rate)\n",
    "\n",
    "        input_layer_transposed = input_layer.T\n",
    "        weights_4 = input_layer_transposed.dot(delta_hidden_layer)\n",
    "        weights_0 = (weights_0 * momentum) + (weights_4 * learning_rate)\n",
    "\n",
    "    \n",
    "\n",
    "\n",
    "if __name__ == \"__main__\":\n",
    "    inputs = np.array([[0, 0], [0, 1], [1, 0], [1, 1]])\n",
    "    outputs = np.array([[0], [1], [1], [0]])\n",
    "    weights_0 = np.array([[-0.424, -0.740, -0.961], [0.358, -0.577, 0.148]])\n",
    "    weights_1 = np.array([[-0.017], [-0.893], [0.148]])\n",
    "    learning_rate = 0.25\n",
    "    training_amount = 1000000\n",
    "    momentum = 1\n",
    "    learn(inputs, outputs, weights_0, weights_1, learning_rate, training_amount, momentum)\n"
   ]
  }
 ],
 "metadata": {
  "kernelspec": {
   "display_name": ".venv",
   "language": "python",
   "name": "python3"
  },
  "language_info": {
   "codemirror_mode": {
    "name": "ipython",
    "version": 3
   },
   "file_extension": ".py",
   "mimetype": "text/x-python",
   "name": "python",
   "nbconvert_exporter": "python",
   "pygments_lexer": "ipython3",
   "version": "3.11.5"
  },
  "orig_nbformat": 4
 },
 "nbformat": 4,
 "nbformat_minor": 2
}
