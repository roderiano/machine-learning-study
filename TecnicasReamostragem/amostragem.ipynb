{
 "cells": [
  {
   "cell_type": "code",
   "execution_count": 1,
   "metadata": {},
   "outputs": [],
   "source": [
    "import numpy as np\n",
    "from sklearn import datasets\n",
    "from sklearn.linear_model import LogisticRegression\n",
    "from sklearn.metrics import accuracy_score\n",
    "from sklearn.model_selection import train_test_split, KFold"
   ]
  },
  {
   "cell_type": "code",
   "execution_count": 2,
   "metadata": {},
   "outputs": [],
   "source": [
    "wine = datasets.load_wine()\n",
    "x = wine.data\n",
    "y = wine.target"
   ]
  },
  {
   "cell_type": "code",
   "execution_count": 3,
   "metadata": {},
   "outputs": [
    {
     "name": "stdout",
     "output_type": "stream",
     "text": [
      "Rows: 178\n",
      "Columns: 13\n",
      "Classes: 3\n"
     ]
    }
   ],
   "source": [
    "print(f\"Rows: {x.shape[0]}\")\n",
    "print(f\"Columns: {x.shape[1]}\")\n",
    "print(f\"Classes: {len(np.unique(y))}\")"
   ]
  },
  {
   "cell_type": "code",
   "execution_count": 5,
   "metadata": {},
   "outputs": [
    {
     "name": "stdout",
     "output_type": "stream",
     "text": [
      "train (60%): 106\n",
      "test (40%): 72\n",
      "accuracy: 0.9305555555555556\n"
     ]
    }
   ],
   "source": [
    "# Amostragem holdout\n",
    "\n",
    "# separa em subconjunto treinamento/teste\n",
    "x_train, x_test, y_train, y_test = train_test_split(x, y, test_size=0.4, random_state=42)\n",
    "print(f\"train (60%): {len(x_train)}\")\n",
    "print(f\"test (40%): {len(x_test)}\")\n",
    "\n",
    "# realiza aprendizagem sobre o subconjunto de treinamento\n",
    "clf = LogisticRegression(solver=\"liblinear\")\n",
    "clf.fit(x_train, y_train)\n",
    "\n",
    "# classifica os dados não vistos no subconjunto de teste\n",
    "y_pred = clf.predict(x_test)\n",
    "\n",
    "# compara resultados reais e preditos\n",
    "print(f\"accuracy: {accuracy_score(y_test, y_pred)}\")"
   ]
  },
  {
   "cell_type": "code",
   "execution_count": 7,
   "metadata": {},
   "outputs": [
    {
     "name": "stdout",
     "output_type": "stream",
     "text": [
      "accuracy: 0.9330158730158731 +- 0.037591242822113\n"
     ]
    }
   ],
   "source": [
    "# Validação cruzada\n",
    "\n",
    "acc = []\n",
    "\n",
    "# realiza aprendizagem por validação cruzada\n",
    "kf = KFold(n_splits=5)\n",
    "\n",
    "for train_index, test_index in kf.split(x):\n",
    "    # constrói os subconjuntos de trainmento/teste para cada partição\n",
    "    x_train, y_train = x[train_index], y[train_index]\n",
    "    x_test, y_test = x[test_index], y[test_index]\n",
    "\n",
    "    # realiza aprendizagem sobre o subconjunto de treinamento\n",
    "    clf = LogisticRegression(solver=\"liblinear\")\n",
    "    clf.fit(x_train, y_train)\n",
    "\n",
    "    # classifica os dados não vistos no subconjunto de teste\n",
    "    y_pred = clf.predict(x_test)\n",
    "\n",
    "    # calcula e armazena a acuracia do modelo atual \n",
    "    acc.append(accuracy_score(y_test, y_pred))\n",
    "\n",
    "print(f\"accuracy: {np.mean(acc)} +- {np.std(acc)}\")"
   ]
  }
 ],
 "metadata": {
  "kernelspec": {
   "display_name": ".venv",
   "language": "python",
   "name": "python3"
  },
  "language_info": {
   "codemirror_mode": {
    "name": "ipython",
    "version": 3
   },
   "file_extension": ".py",
   "mimetype": "text/x-python",
   "name": "python",
   "nbconvert_exporter": "python",
   "pygments_lexer": "ipython3",
   "version": "3.11.5"
  },
  "orig_nbformat": 4
 },
 "nbformat": 4,
 "nbformat_minor": 2
}
