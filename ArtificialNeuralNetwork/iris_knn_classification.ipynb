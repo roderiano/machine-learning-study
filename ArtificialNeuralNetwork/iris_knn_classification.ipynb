{
 "cells": [
  {
   "cell_type": "code",
   "execution_count": 19,
   "metadata": {},
   "outputs": [],
   "source": [
    "from sklearn.datasets import load_iris\n",
    "from sklearn.neighbors import KNeighborsClassifier"
   ]
  },
  {
   "cell_type": "code",
   "execution_count": 20,
   "metadata": {},
   "outputs": [
    {
     "name": "stdout",
     "output_type": "stream",
     "text": [
      "label: setosa\n"
     ]
    }
   ],
   "source": [
    "dataset = load_iris()\n",
    "\n",
    "inputs = dataset.data\n",
    "outputs = dataset.target\n",
    "labels = dataset.target_names\n",
    "\n",
    "# print(inputs[0])\n",
    "# print(outputs[0])\n",
    "\n",
    "knn = KNeighborsClassifier(n_neighbors=1)\n",
    "knn.fit(inputs, outputs)\n",
    "classification = knn.predict([[5.1, 3.1, 1.4, 0.2]])[0]\n",
    "print(f\"label: {labels[classification]}\")"
   ]
  }
 ],
 "metadata": {
  "kernelspec": {
   "display_name": ".venv",
   "language": "python",
   "name": "python3"
  },
  "language_info": {
   "codemirror_mode": {
    "name": "ipython",
    "version": 3
   },
   "file_extension": ".py",
   "mimetype": "text/x-python",
   "name": "python",
   "nbconvert_exporter": "python",
   "pygments_lexer": "ipython3",
   "version": "3.11.5"
  },
  "orig_nbformat": 4
 },
 "nbformat": 4,
 "nbformat_minor": 2
}
