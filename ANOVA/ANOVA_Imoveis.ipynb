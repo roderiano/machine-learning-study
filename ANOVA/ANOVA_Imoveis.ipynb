{
 "cells": [
  {
   "cell_type": "code",
   "execution_count": 1,
   "metadata": {},
   "outputs": [
    {
     "name": "stdout",
     "output_type": "stream",
     "text": [
      "Análise de Variância para Tipo de Propriedade com Diferença Significativa:\n",
      "Estatística F: 60.73185478616157\n",
      "Valor-p: 7.729463099189444e-23\n",
      "Há diferença significativa nos preços com base no tipo de propriedade.\n",
      "\n",
      "Análise de Variância para Tipo de Propriedade com Diferença Não Significativa:\n",
      "Estatística F: 0.2476087132723289\n",
      "Valor-p: 0.7808263389030512\n",
      "Não há diferença significativa nos preços com base no tipo de propriedade.\n"
     ]
    }
   ],
   "source": [
    "import numpy as np\n",
    "from scipy.stats import f_oneway\n",
    "\n",
    "# Dados fictícios para ilustrar ANOVA\n",
    "# Conjunto de dados com diferença significativa nos preços com base no tipo de propriedade\n",
    "pricing_significant = [np.random.normal(loc=100000, scale=20000, size=100),  # Apartamentos\n",
    "                       np.random.normal(loc=120000, scale=20000, size=100),  # Casas\n",
    "                       np.random.normal(loc=80000, scale=20000, size=100)]   # Terrenos\n",
    "\n",
    "# Conjunto de dados com diferença não significativa nos preços com base no tipo de propriedade\n",
    "pricing_not_significant = [np.random.normal(loc=100000, scale=20000, size=100),  # Apartamentos\n",
    "                           np.random.normal(loc=100500, scale=20000, size=100),  # Casas\n",
    "                           np.random.normal(loc=99500, scale=20000, size=100)]    # Terrenos\n",
    "\n",
    "# Realizar ANOVA para cada conjunto de dados\n",
    "f_stat_significant, p_value_significant = f_oneway(*pricing_significant)\n",
    "f_stat_not_significant, p_value_not_significant = f_oneway(*pricing_not_significant)\n",
    "\n",
    "# Interpretar os resultados\n",
    "print(\"Análise de Variância para Tipo de Propriedade com Diferença Significativa:\")\n",
    "print(\"Estatística F:\", f_stat_significant)\n",
    "print(\"Valor-p:\", p_value_significant)\n",
    "if p_value_significant < 0.05:\n",
    "    print(\"Há diferença significativa nos preços com base no tipo de propriedade.\")\n",
    "else:\n",
    "    print(\"Não há diferença significativa nos preços com base no tipo de propriedade.\")\n",
    "\n",
    "print(\"\\nAnálise de Variância para Tipo de Propriedade com Diferença Não Significativa:\")\n",
    "print(\"Estatística F:\", f_stat_not_significant)\n",
    "print(\"Valor-p:\", p_value_not_significant)\n",
    "if p_value_not_significant < 0.05:\n",
    "    print(\"Há diferença significativa nos preços com base no tipo de propriedade.\")\n",
    "else:\n",
    "    print(\"Não há diferença significativa nos preços com base no tipo de propriedade.\")\n"
   ]
  }
 ],
 "metadata": {
  "kernelspec": {
   "display_name": ".venv",
   "language": "python",
   "name": "python3"
  },
  "language_info": {
   "codemirror_mode": {
    "name": "ipython",
    "version": 3
   },
   "file_extension": ".py",
   "mimetype": "text/x-python",
   "name": "python",
   "nbconvert_exporter": "python",
   "pygments_lexer": "ipython3",
   "version": "3.11.5"
  },
  "orig_nbformat": 4
 },
 "nbformat": 4,
 "nbformat_minor": 2
}
